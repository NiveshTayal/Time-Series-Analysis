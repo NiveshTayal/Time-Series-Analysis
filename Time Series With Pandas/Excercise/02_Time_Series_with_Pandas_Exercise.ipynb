{
  "nbformat": 4,
  "nbformat_minor": 0,
  "metadata": {
    "kernelspec": {
      "display_name": "Python 3",
      "language": "python",
      "name": "python3"
    },
    "language_info": {
      "codemirror_mode": {
        "name": "ipython",
        "version": 3
      },
      "file_extension": ".py",
      "mimetype": "text/x-python",
      "name": "python",
      "nbconvert_exporter": "python",
      "pygments_lexer": "ipython3",
      "version": "3.7.2"
    },
    "colab": {
      "name": "02-Time-Series-with-Pandas-Exercise.ipynb",
      "provenance": [],
      "collapsed_sections": [
        "tCmCZbr0gfCW"
      ]
    }
  },
  "cells": [
    {
      "cell_type": "code",
      "metadata": {
        "id": "wBWURrZvg0Xy",
        "colab_type": "code",
        "colab": {}
      },
      "source": [
        "!pip install -U -q PyDrive"
      ],
      "execution_count": 0,
      "outputs": []
    },
    {
      "cell_type": "code",
      "metadata": {
        "id": "UdbzF7GMg1F9",
        "colab_type": "code",
        "colab": {}
      },
      "source": [
        "from pydrive.auth import GoogleAuth\n",
        "from pydrive.drive import GoogleDrive\n",
        "from google.colab import auth\n",
        "from oauth2client.client import GoogleCredentials"
      ],
      "execution_count": 0,
      "outputs": []
    },
    {
      "cell_type": "code",
      "metadata": {
        "id": "tZ2oNWn8g2_O",
        "colab_type": "code",
        "colab": {}
      },
      "source": [
        "auth.authenticate_user()\n",
        "gauth = GoogleAuth()\n",
        "gauth.credentials = GoogleCredentials.get_application_default()\n",
        "drive = GoogleDrive(gauth)"
      ],
      "execution_count": 0,
      "outputs": []
    },
    {
      "cell_type": "code",
      "metadata": {
        "id": "RXLI63wcg5XD",
        "colab_type": "code",
        "colab": {}
      },
      "source": [
        "downloaded = drive.CreateFile({'id':'1JDnaPAn2GZsh4mo126X8nMsASkVOwHSV'})# replace the id with id of file you want to access\n",
        "downloaded.GetContentFile('UMTMVS.csv') "
      ],
      "execution_count": 0,
      "outputs": []
    },
    {
      "cell_type": "markdown",
      "metadata": {
        "id": "UIgu4ZvlgfBJ",
        "colab_type": "text"
      },
      "source": [
        "# Time Series with Pandas Project Exercise\n",
        "\n",
        "For this exercise, answer the questions below given the dataset: https://fred.stlouisfed.org/series/UMTMVS\n",
        "\n",
        "This dataset is the Value of Manufacturers' Shipments for All Manufacturing Industries."
      ]
    },
    {
      "cell_type": "markdown",
      "metadata": {
        "id": "_XOFtYlFgfBJ",
        "colab_type": "text"
      },
      "source": [
        "**Import any necessary libraries.**"
      ]
    },
    {
      "cell_type": "code",
      "metadata": {
        "id": "fIZMagSLgfBK",
        "colab_type": "code",
        "colab": {}
      },
      "source": [
        "# CODE HERE"
      ],
      "execution_count": 0,
      "outputs": []
    },
    {
      "cell_type": "code",
      "metadata": {
        "id": "pJF8eXOIgfBM",
        "colab_type": "code",
        "colab": {}
      },
      "source": [
        "import pandas as pd\n",
        "import numpy as np\n",
        "%matplotlib inline"
      ],
      "execution_count": 0,
      "outputs": []
    },
    {
      "cell_type": "markdown",
      "metadata": {
        "id": "tS5XLYz9gfBO",
        "colab_type": "text"
      },
      "source": [
        "**Read in the data UMTMVS.csv file from the Data folder**"
      ]
    },
    {
      "cell_type": "code",
      "metadata": {
        "id": "_AvTdGNWgfBP",
        "colab_type": "code",
        "colab": {}
      },
      "source": [
        "# CODE HERE"
      ],
      "execution_count": 0,
      "outputs": []
    },
    {
      "cell_type": "code",
      "metadata": {
        "id": "nG7jrWLTgfBR",
        "colab_type": "code",
        "colab": {}
      },
      "source": [
        "df=pd.read_csv('UMTMVS.csv')"
      ],
      "execution_count": 0,
      "outputs": []
    },
    {
      "cell_type": "markdown",
      "metadata": {
        "id": "DF5V0phGgfBT",
        "colab_type": "text"
      },
      "source": [
        "**Check the head of the data**"
      ]
    },
    {
      "cell_type": "code",
      "metadata": {
        "id": "nOTMxgMkgfBT",
        "colab_type": "code",
        "colab": {}
      },
      "source": [
        "# CODE HERE"
      ],
      "execution_count": 0,
      "outputs": []
    },
    {
      "cell_type": "code",
      "metadata": {
        "id": "QodLfa8WgfBV",
        "colab_type": "code",
        "colab": {
          "base_uri": "https://localhost:8080/",
          "height": 204
        },
        "outputId": "2a943e25-73d9-4722-c3f9-f6893ffece4b"
      },
      "source": [
        "df.head()"
      ],
      "execution_count": 12,
      "outputs": [
        {
          "output_type": "execute_result",
          "data": {
            "text/html": [
              "<div>\n",
              "<style scoped>\n",
              "    .dataframe tbody tr th:only-of-type {\n",
              "        vertical-align: middle;\n",
              "    }\n",
              "\n",
              "    .dataframe tbody tr th {\n",
              "        vertical-align: top;\n",
              "    }\n",
              "\n",
              "    .dataframe thead th {\n",
              "        text-align: right;\n",
              "    }\n",
              "</style>\n",
              "<table border=\"1\" class=\"dataframe\">\n",
              "  <thead>\n",
              "    <tr style=\"text-align: right;\">\n",
              "      <th></th>\n",
              "      <th>DATE</th>\n",
              "      <th>UMTMVS</th>\n",
              "    </tr>\n",
              "  </thead>\n",
              "  <tbody>\n",
              "    <tr>\n",
              "      <th>0</th>\n",
              "      <td>1992-01-01</td>\n",
              "      <td>209438.0</td>\n",
              "    </tr>\n",
              "    <tr>\n",
              "      <th>1</th>\n",
              "      <td>1992-02-01</td>\n",
              "      <td>232679.0</td>\n",
              "    </tr>\n",
              "    <tr>\n",
              "      <th>2</th>\n",
              "      <td>1992-03-01</td>\n",
              "      <td>249673.0</td>\n",
              "    </tr>\n",
              "    <tr>\n",
              "      <th>3</th>\n",
              "      <td>1992-04-01</td>\n",
              "      <td>239666.0</td>\n",
              "    </tr>\n",
              "    <tr>\n",
              "      <th>4</th>\n",
              "      <td>1992-05-01</td>\n",
              "      <td>243231.0</td>\n",
              "    </tr>\n",
              "  </tbody>\n",
              "</table>\n",
              "</div>"
            ],
            "text/plain": [
              "         DATE    UMTMVS\n",
              "0  1992-01-01  209438.0\n",
              "1  1992-02-01  232679.0\n",
              "2  1992-03-01  249673.0\n",
              "3  1992-04-01  239666.0\n",
              "4  1992-05-01  243231.0"
            ]
          },
          "metadata": {
            "tags": []
          },
          "execution_count": 12
        }
      ]
    },
    {
      "cell_type": "markdown",
      "metadata": {
        "id": "Yh4e4JBogfBY",
        "colab_type": "text"
      },
      "source": [
        "**Set the DATE column as the index.**"
      ]
    },
    {
      "cell_type": "code",
      "metadata": {
        "id": "zn7hpqdJgfBZ",
        "colab_type": "code",
        "colab": {}
      },
      "source": [
        "# CODE HERE"
      ],
      "execution_count": 0,
      "outputs": []
    },
    {
      "cell_type": "code",
      "metadata": {
        "id": "eQTWXYXsgfBb",
        "colab_type": "code",
        "colab": {}
      },
      "source": [
        "df=df.set_index('DATE')"
      ],
      "execution_count": 0,
      "outputs": []
    },
    {
      "cell_type": "code",
      "metadata": {
        "id": "vJfNc1zvgfBc",
        "colab_type": "code",
        "colab": {
          "base_uri": "https://localhost:8080/",
          "height": 235
        },
        "outputId": "2cec37fb-cb57-4664-a88d-81128cc6d4ef"
      },
      "source": [
        "df.head()"
      ],
      "execution_count": 15,
      "outputs": [
        {
          "output_type": "execute_result",
          "data": {
            "text/html": [
              "<div>\n",
              "<style scoped>\n",
              "    .dataframe tbody tr th:only-of-type {\n",
              "        vertical-align: middle;\n",
              "    }\n",
              "\n",
              "    .dataframe tbody tr th {\n",
              "        vertical-align: top;\n",
              "    }\n",
              "\n",
              "    .dataframe thead th {\n",
              "        text-align: right;\n",
              "    }\n",
              "</style>\n",
              "<table border=\"1\" class=\"dataframe\">\n",
              "  <thead>\n",
              "    <tr style=\"text-align: right;\">\n",
              "      <th></th>\n",
              "      <th>UMTMVS</th>\n",
              "    </tr>\n",
              "    <tr>\n",
              "      <th>DATE</th>\n",
              "      <th></th>\n",
              "    </tr>\n",
              "  </thead>\n",
              "  <tbody>\n",
              "    <tr>\n",
              "      <th>1992-01-01</th>\n",
              "      <td>209438.0</td>\n",
              "    </tr>\n",
              "    <tr>\n",
              "      <th>1992-02-01</th>\n",
              "      <td>232679.0</td>\n",
              "    </tr>\n",
              "    <tr>\n",
              "      <th>1992-03-01</th>\n",
              "      <td>249673.0</td>\n",
              "    </tr>\n",
              "    <tr>\n",
              "      <th>1992-04-01</th>\n",
              "      <td>239666.0</td>\n",
              "    </tr>\n",
              "    <tr>\n",
              "      <th>1992-05-01</th>\n",
              "      <td>243231.0</td>\n",
              "    </tr>\n",
              "  </tbody>\n",
              "</table>\n",
              "</div>"
            ],
            "text/plain": [
              "              UMTMVS\n",
              "DATE                \n",
              "1992-01-01  209438.0\n",
              "1992-02-01  232679.0\n",
              "1992-03-01  249673.0\n",
              "1992-04-01  239666.0\n",
              "1992-05-01  243231.0"
            ]
          },
          "metadata": {
            "tags": []
          },
          "execution_count": 15
        }
      ]
    },
    {
      "cell_type": "markdown",
      "metadata": {
        "id": "gF7uwGlogfBf",
        "colab_type": "text"
      },
      "source": [
        "**Check the data type of the index.**"
      ]
    },
    {
      "cell_type": "code",
      "metadata": {
        "id": "wo7l4N94gfBf",
        "colab_type": "code",
        "colab": {}
      },
      "source": [
        "# CODE HERE"
      ],
      "execution_count": 0,
      "outputs": []
    },
    {
      "cell_type": "code",
      "metadata": {
        "id": "01myNnWLgfBh",
        "colab_type": "code",
        "colab": {
          "base_uri": "https://localhost:8080/",
          "height": 119
        },
        "outputId": "cceab62f-4576-4961-cc38-f8435e91b5b2"
      },
      "source": [
        "df.index"
      ],
      "execution_count": 17,
      "outputs": [
        {
          "output_type": "execute_result",
          "data": {
            "text/plain": [
              "Index(['1992-01-01', '1992-02-01', '1992-03-01', '1992-04-01', '1992-05-01',\n",
              "       '1992-06-01', '1992-07-01', '1992-08-01', '1992-09-01', '1992-10-01',\n",
              "       ...\n",
              "       '2018-04-01', '2018-05-01', '2018-06-01', '2018-07-01', '2018-08-01',\n",
              "       '2018-09-01', '2018-10-01', '2018-11-01', '2018-12-01', '2019-01-01'],\n",
              "      dtype='object', name='DATE', length=325)"
            ]
          },
          "metadata": {
            "tags": []
          },
          "execution_count": 17
        }
      ]
    },
    {
      "cell_type": "markdown",
      "metadata": {
        "id": "d_XFJ5qvgfBj",
        "colab_type": "text"
      },
      "source": [
        "**Convert the index to be a datetime index. Note, there are many, many correct ways to do this!**"
      ]
    },
    {
      "cell_type": "code",
      "metadata": {
        "id": "uVM6u4B8gfBj",
        "colab_type": "code",
        "colab": {}
      },
      "source": [
        "# CODE HERE"
      ],
      "execution_count": 0,
      "outputs": []
    },
    {
      "cell_type": "code",
      "metadata": {
        "id": "nbKREojwgfBl",
        "colab_type": "code",
        "colab": {}
      },
      "source": [
        "df.index=pd.to_datetime(df.index)"
      ],
      "execution_count": 0,
      "outputs": []
    },
    {
      "cell_type": "markdown",
      "metadata": {
        "id": "eBOosjzngfBq",
        "colab_type": "text"
      },
      "source": [
        "**Plot out the data, choose a reasonable figure size**"
      ]
    },
    {
      "cell_type": "code",
      "metadata": {
        "id": "eout62YlgfBq",
        "colab_type": "code",
        "colab": {
          "base_uri": "https://localhost:8080/",
          "height": 405
        },
        "outputId": "fd39724f-3e93-4e2e-9fe1-134f4c744b31"
      },
      "source": [
        "# CODE HERE\n",
        "df.plot(figsize=(12,6))"
      ],
      "execution_count": 20,
      "outputs": [
        {
          "output_type": "execute_result",
          "data": {
            "text/plain": [
              "<matplotlib.axes._subplots.AxesSubplot at 0x7ff863af1c18>"
            ]
          },
          "metadata": {
            "tags": []
          },
          "execution_count": 20
        },
        {
          "output_type": "display_data",
          "data": {
            "image/png": "[encoded data removed]",
            "text/plain": [
              "<Figure size 864x432 with 1 Axes>"
            ]
          },
          "metadata": {
            "tags": [],
            "needs_background": "light"
          }
        }
      ]
    },
    {
      "cell_type": "markdown",
      "metadata": {
        "id": "sUIy7r0NgfBu",
        "colab_type": "text"
      },
      "source": [
        "**What was the percent increase in value from Jan 2009 to Jan 2019?**"
      ]
    },
    {
      "cell_type": "code",
      "metadata": {
        "id": "zzgknkB-gfBu",
        "colab_type": "code",
        "colab": {}
      },
      "source": [
        "#CODE HERE"
      ],
      "execution_count": 0,
      "outputs": []
    },
    {
      "cell_type": "code",
      "metadata": {
        "id": "qvlDkrLpgfBw",
        "colab_type": "code",
        "colab": {
          "base_uri": "https://localhost:8080/",
          "height": 51
        },
        "outputId": "eaf5cbdb-fbce-4105-d92f-ec181f9988ab"
      },
      "source": [
        "((df.loc['2019-01-01']-df.loc['2009-01-01'])/df.loc['2009-01-01'])*100"
      ],
      "execution_count": 22,
      "outputs": [
        {
          "output_type": "execute_result",
          "data": {
            "text/plain": [
              "UMTMVS    38.472149\n",
              "dtype: float64"
            ]
          },
          "metadata": {
            "tags": []
          },
          "execution_count": 22
        }
      ]
    },
    {
      "cell_type": "markdown",
      "metadata": {
        "id": "k9pbNjcwgfBy",
        "colab_type": "text"
      },
      "source": [
        "**What was the percent decrease from Jan 2008 to Jan 2009?**"
      ]
    },
    {
      "cell_type": "code",
      "metadata": {
        "id": "UkinXCsLgfBy",
        "colab_type": "code",
        "colab": {}
      },
      "source": [
        "#CODE HERE"
      ],
      "execution_count": 0,
      "outputs": []
    },
    {
      "cell_type": "code",
      "metadata": {
        "id": "v5n69ZtWgfBz",
        "colab_type": "code",
        "colab": {
          "base_uri": "https://localhost:8080/",
          "height": 51
        },
        "outputId": "1731c2f7-55a4-4163-fd57-a18b906c72ce"
      },
      "source": [
        "((df.loc['2009-01-01']-df.loc['2008-01-01'])/df.loc['2008-01-01'])*100"
      ],
      "execution_count": 24,
      "outputs": [
        {
          "output_type": "execute_result",
          "data": {
            "text/plain": [
              "UMTMVS   -22.022775\n",
              "dtype: float64"
            ]
          },
          "metadata": {
            "tags": []
          },
          "execution_count": 24
        }
      ]
    },
    {
      "cell_type": "markdown",
      "metadata": {
        "id": "TvOKEKnjgfB1",
        "colab_type": "text"
      },
      "source": [
        "**What is the month with the least value after 2005?** [HINT](https://pandas.pydata.org/pandas-docs/stable/reference/api/pandas.DataFrame.idxmin.html)"
      ]
    },
    {
      "cell_type": "code",
      "metadata": {
        "id": "fPJqOOVGgfB1",
        "colab_type": "code",
        "colab": {}
      },
      "source": [
        "#CODE HERE"
      ],
      "execution_count": 0,
      "outputs": []
    },
    {
      "cell_type": "code",
      "metadata": {
        "id": "kkD5uOx_gfB3",
        "colab_type": "code",
        "colab": {
          "base_uri": "https://localhost:8080/",
          "height": 51
        },
        "outputId": "4cee99bd-9003-406a-c94a-696f35bb891e"
      },
      "source": [
        "df.loc['2005-01-01':].idxmin()"
      ],
      "execution_count": 26,
      "outputs": [
        {
          "output_type": "execute_result",
          "data": {
            "text/plain": [
              "UMTMVS   2009-01-01\n",
              "dtype: datetime64[ns]"
            ]
          },
          "metadata": {
            "tags": []
          },
          "execution_count": 26
        }
      ]
    },
    {
      "cell_type": "markdown",
      "metadata": {
        "id": "QqXqjZ-zgfB5",
        "colab_type": "text"
      },
      "source": [
        "**What 6 months have the highest value?**"
      ]
    },
    {
      "cell_type": "code",
      "metadata": {
        "id": "Mfk-MET5gfB5",
        "colab_type": "code",
        "colab": {}
      },
      "source": [
        "# CODE HERE"
      ],
      "execution_count": 0,
      "outputs": []
    },
    {
      "cell_type": "code",
      "metadata": {
        "id": "lj7qfvsNgfB7",
        "colab_type": "code",
        "colab": {
          "base_uri": "https://localhost:8080/",
          "height": 266
        },
        "outputId": "4e081f9e-2df4-4293-d4d3-bbfc2132a6ce"
      },
      "source": [
        "df.sort_values(by='UMTMVS',ascending=False).head(6)"
      ],
      "execution_count": 28,
      "outputs": [
        {
          "output_type": "execute_result",
          "data": {
            "text/html": [
              "<div>\n",
              "<style scoped>\n",
              "    .dataframe tbody tr th:only-of-type {\n",
              "        vertical-align: middle;\n",
              "    }\n",
              "\n",
              "    .dataframe tbody tr th {\n",
              "        vertical-align: top;\n",
              "    }\n",
              "\n",
              "    .dataframe thead th {\n",
              "        text-align: right;\n",
              "    }\n",
              "</style>\n",
              "<table border=\"1\" class=\"dataframe\">\n",
              "  <thead>\n",
              "    <tr style=\"text-align: right;\">\n",
              "      <th></th>\n",
              "      <th>UMTMVS</th>\n",
              "    </tr>\n",
              "    <tr>\n",
              "      <th>DATE</th>\n",
              "      <th></th>\n",
              "    </tr>\n",
              "  </thead>\n",
              "  <tbody>\n",
              "    <tr>\n",
              "      <th>2018-08-01</th>\n",
              "      <td>529157.0</td>\n",
              "    </tr>\n",
              "    <tr>\n",
              "      <th>2018-10-01</th>\n",
              "      <td>527031.0</td>\n",
              "    </tr>\n",
              "    <tr>\n",
              "      <th>2018-06-01</th>\n",
              "      <td>525660.0</td>\n",
              "    </tr>\n",
              "    <tr>\n",
              "      <th>2018-03-01</th>\n",
              "      <td>518285.0</td>\n",
              "    </tr>\n",
              "    <tr>\n",
              "      <th>2018-09-01</th>\n",
              "      <td>516992.0</td>\n",
              "    </tr>\n",
              "    <tr>\n",
              "      <th>2014-06-01</th>\n",
              "      <td>516935.0</td>\n",
              "    </tr>\n",
              "  </tbody>\n",
              "</table>\n",
              "</div>"
            ],
            "text/plain": [
              "              UMTMVS\n",
              "DATE                \n",
              "2018-08-01  529157.0\n",
              "2018-10-01  527031.0\n",
              "2018-06-01  525660.0\n",
              "2018-03-01  518285.0\n",
              "2018-09-01  516992.0\n",
              "2014-06-01  516935.0"
            ]
          },
          "metadata": {
            "tags": []
          },
          "execution_count": 28
        }
      ]
    },
    {
      "cell_type": "markdown",
      "metadata": {
        "id": "KTzxf-l2gfB9",
        "colab_type": "text"
      },
      "source": [
        "**How many millions of dollars in value was lost in 2008? (Another way of posing this question is what was the value difference between Jan 2008 and Jan 2009)**"
      ]
    },
    {
      "cell_type": "code",
      "metadata": {
        "id": "x65lG_q4gfB9",
        "colab_type": "code",
        "colab": {}
      },
      "source": [
        "# CODE HERE"
      ],
      "execution_count": 0,
      "outputs": []
    },
    {
      "cell_type": "code",
      "metadata": {
        "id": "6d3rB3UogfB_",
        "colab_type": "code",
        "colab": {
          "base_uri": "https://localhost:8080/",
          "height": 51
        },
        "outputId": "915900fd-8fdd-4171-943a-d0e289a806ec"
      },
      "source": [
        "df.loc['2009-01-01']-df.loc['2008-01-01']"
      ],
      "execution_count": 30,
      "outputs": [
        {
          "output_type": "execute_result",
          "data": {
            "text/plain": [
              "UMTMVS   -95206.0\n",
              "dtype: float64"
            ]
          },
          "metadata": {
            "tags": []
          },
          "execution_count": 30
        }
      ]
    },
    {
      "cell_type": "markdown",
      "metadata": {
        "id": "mT5e-MCQgfCA",
        "colab_type": "text"
      },
      "source": [
        "**Create a bar plot showing the average value in millions of dollars per year**"
      ]
    },
    {
      "cell_type": "code",
      "metadata": {
        "id": "txLkhmYfgfCB",
        "colab_type": "code",
        "colab": {}
      },
      "source": [
        "# CODE HERE"
      ],
      "execution_count": 0,
      "outputs": []
    },
    {
      "cell_type": "code",
      "metadata": {
        "id": "qiqOIw6UgfCC",
        "colab_type": "code",
        "colab": {
          "base_uri": "https://localhost:8080/",
          "height": 446
        },
        "outputId": "b9481882-9aba-4f88-cdaa-419e0bee59c9"
      },
      "source": [
        "df.resample(rule='Y').mean().plot.bar(figsize=(12,5))"
      ],
      "execution_count": 32,
      "outputs": [
        {
          "output_type": "execute_result",
          "data": {
            "text/plain": [
              "<matplotlib.axes._subplots.AxesSubplot at 0x7ff863305518>"
            ]
          },
          "metadata": {
            "tags": []
          },
          "execution_count": 32
        },
        {
          "output_type": "display_data",
          "data": {
            "image/png": "[encoded data removed]",
            "text/plain": [
              "<Figure size 864x360 with 1 Axes>"
            ]
          },
          "metadata": {
            "tags": [],
            "needs_background": "light"
          }
        }
      ]
    },
    {
      "cell_type": "markdown",
      "metadata": {
        "id": "d2Sn9hxjgfCE",
        "colab_type": "text"
      },
      "source": [
        "**What year had the biggest increase in mean value from the previous year's mean value? (Lots of ways to get this answer!)**\n",
        "\n",
        "[HINT for a useful method](https://pandas.pydata.org/pandas-docs/version/0.21/generated/pandas.DataFrame.idxmax.html)"
      ]
    },
    {
      "cell_type": "code",
      "metadata": {
        "id": "CMmlq-1qgfCE",
        "colab_type": "code",
        "colab": {}
      },
      "source": [
        "# CODE HERE"
      ],
      "execution_count": 0,
      "outputs": []
    },
    {
      "cell_type": "code",
      "metadata": {
        "id": "_H9D68WFgfCG",
        "colab_type": "code",
        "colab": {}
      },
      "source": [
        "yearly_mean=df.resample(rule='Y').mean()"
      ],
      "execution_count": 0,
      "outputs": []
    },
    {
      "cell_type": "code",
      "metadata": {
        "id": "lw3X7ceBgfCH",
        "colab_type": "code",
        "colab": {}
      },
      "source": [
        "prev_yearly_mean=yearly_mean.shift(1)"
      ],
      "execution_count": 0,
      "outputs": []
    },
    {
      "cell_type": "code",
      "metadata": {
        "id": "q7_X21DggfCJ",
        "colab_type": "code",
        "colab": {}
      },
      "source": [
        "change=yearly_mean-prev_yearly_mean"
      ],
      "execution_count": 0,
      "outputs": []
    },
    {
      "cell_type": "code",
      "metadata": {
        "id": "_S7JzcFKgfCM",
        "colab_type": "code",
        "colab": {
          "base_uri": "https://localhost:8080/",
          "height": 34
        },
        "outputId": "94586c97-d52d-496c-fd7c-2a412835d9e1"
      },
      "source": [
        "change['UMTMVS'].idxmax()"
      ],
      "execution_count": 37,
      "outputs": [
        {
          "output_type": "execute_result",
          "data": {
            "text/plain": [
              "Timestamp('2011-12-31 00:00:00', freq='A-DEC')"
            ]
          },
          "metadata": {
            "tags": []
          },
          "execution_count": 37
        }
      ]
    },
    {
      "cell_type": "markdown",
      "metadata": {
        "id": "OZZ8bDZqgfCP",
        "colab_type": "text"
      },
      "source": [
        "**Plot out the yearly rolling mean on top of the original data. Recall that this is monthly data and there are 12 months in a year!**"
      ]
    },
    {
      "cell_type": "code",
      "metadata": {
        "id": "ZiCofXRugfCP",
        "colab_type": "code",
        "colab": {}
      },
      "source": [
        "# CODE HERE"
      ],
      "execution_count": 0,
      "outputs": []
    },
    {
      "cell_type": "code",
      "metadata": {
        "id": "U7-stskBgfCR",
        "colab_type": "code",
        "colab": {
          "base_uri": "https://localhost:8080/",
          "height": 351
        },
        "outputId": "51f095ad-d3d9-4259-b884-b618750cbaa7"
      },
      "source": [
        "df['Yearly-Mean']=df.rolling(window=12).mean()\n",
        "df.plot(figsize=(12,5))"
      ],
      "execution_count": 39,
      "outputs": [
        {
          "output_type": "execute_result",
          "data": {
            "text/plain": [
              "<matplotlib.axes._subplots.AxesSubplot at 0x7ff86220aef0>"
            ]
          },
          "metadata": {
            "tags": []
          },
          "execution_count": 39
        },
        {
          "output_type": "display_data",
          "data": {
            "image/png": "[encoded data removed]",
            "text/plain": [
              "<Figure size 864x360 with 1 Axes>"
            ]
          },
          "metadata": {
            "tags": [],
            "needs_background": "light"
          }
        }
      ]
    },
    {
      "cell_type": "markdown",
      "metadata": {
        "id": "VcNZhIlWgfCT",
        "colab_type": "text"
      },
      "source": [
        "**BONUS QUESTION (HARD).**\n",
        "\n",
        "**Some month in 2008 the value peaked for that year. How many months did it take to surpass that 2008 peak? (Since it crashed immediately after this peak) There are many ways to get this answer. NOTE: I get 70 months as my answer, you may get 69 or 68, depending on whether or not you count the start and end months. Refer to the video solutions for full explanation on this.**"
      ]
    },
    {
      "cell_type": "code",
      "metadata": {
        "id": "bOIakCyBgfCT",
        "colab_type": "code",
        "colab": {}
      },
      "source": [
        "#CODE HERE"
      ],
      "execution_count": 0,
      "outputs": []
    },
    {
      "cell_type": "code",
      "metadata": {
        "id": "-eap56PHgfCU",
        "colab_type": "code",
        "colab": {}
      },
      "source": [
        "df2008=df.loc['2008-01-01':'2008-12-01']"
      ],
      "execution_count": 0,
      "outputs": []
    },
    {
      "cell_type": "code",
      "metadata": {
        "id": "c28XtJx8-qoZ",
        "colab_type": "code",
        "colab": {
          "base_uri": "https://localhost:8080/",
          "height": 68
        },
        "outputId": "69d3acdb-ef76-453b-fe0f-823893186ea6"
      },
      "source": [
        "df2008.idxmax()"
      ],
      "execution_count": 43,
      "outputs": [
        {
          "output_type": "execute_result",
          "data": {
            "text/plain": [
              "UMTMVS        2008-06-01\n",
              "Yearly-Mean   2008-09-01\n",
              "dtype: datetime64[ns]"
            ]
          },
          "metadata": {
            "tags": []
          },
          "execution_count": 43
        }
      ]
    },
    {
      "cell_type": "code",
      "metadata": {
        "id": "ViL5j45o_AXK",
        "colab_type": "code",
        "colab": {
          "base_uri": "https://localhost:8080/",
          "height": 68
        },
        "outputId": "689a0f2b-1e9b-4b97-d68e-9b7c3153f0b8"
      },
      "source": [
        "df2008.max()"
      ],
      "execution_count": 45,
      "outputs": [
        {
          "output_type": "execute_result",
          "data": {
            "text/plain": [
              "UMTMVS         510081.000000\n",
              "Yearly-Mean    468961.416667\n",
              "dtype: float64"
            ]
          },
          "metadata": {
            "tags": []
          },
          "execution_count": 45
        }
      ]
    },
    {
      "cell_type": "code",
      "metadata": {
        "id": "L-ogc9Tp-xCe",
        "colab_type": "code",
        "colab": {}
      },
      "source": [
        "dfAfter200806=df.loc['2008-07-01':]"
      ],
      "execution_count": 0,
      "outputs": []
    },
    {
      "cell_type": "code",
      "metadata": {
        "id": "RszY_7bo-6xi",
        "colab_type": "code",
        "colab": {
          "base_uri": "https://localhost:8080/",
          "height": 359
        },
        "outputId": "b5cd5c23-6533-473e-cce1-e358f6c4013b"
      },
      "source": [
        "dfAfter200806[dfAfter200806['UMTMVS']>510081]"
      ],
      "execution_count": 46,
      "outputs": [
        {
          "output_type": "execute_result",
          "data": {
            "text/html": [
              "<div>\n",
              "<style scoped>\n",
              "    .dataframe tbody tr th:only-of-type {\n",
              "        vertical-align: middle;\n",
              "    }\n",
              "\n",
              "    .dataframe tbody tr th {\n",
              "        vertical-align: top;\n",
              "    }\n",
              "\n",
              "    .dataframe thead th {\n",
              "        text-align: right;\n",
              "    }\n",
              "</style>\n",
              "<table border=\"1\" class=\"dataframe\">\n",
              "  <thead>\n",
              "    <tr style=\"text-align: right;\">\n",
              "      <th></th>\n",
              "      <th>UMTMVS</th>\n",
              "      <th>Yearly-Mean</th>\n",
              "    </tr>\n",
              "    <tr>\n",
              "      <th>DATE</th>\n",
              "      <th></th>\n",
              "      <th></th>\n",
              "    </tr>\n",
              "  </thead>\n",
              "  <tbody>\n",
              "    <tr>\n",
              "      <th>2014-03-01</th>\n",
              "      <td>513700.0</td>\n",
              "      <td>485847.666667</td>\n",
              "    </tr>\n",
              "    <tr>\n",
              "      <th>2014-06-01</th>\n",
              "      <td>516935.0</td>\n",
              "      <td>489181.333333</td>\n",
              "    </tr>\n",
              "    <tr>\n",
              "      <th>2014-09-01</th>\n",
              "      <td>512988.0</td>\n",
              "      <td>492120.250000</td>\n",
              "    </tr>\n",
              "    <tr>\n",
              "      <th>2018-03-01</th>\n",
              "      <td>518285.0</td>\n",
              "      <td>474351.250000</td>\n",
              "    </tr>\n",
              "    <tr>\n",
              "      <th>2018-05-01</th>\n",
              "      <td>515105.0</td>\n",
              "      <td>480757.250000</td>\n",
              "    </tr>\n",
              "    <tr>\n",
              "      <th>2018-06-01</th>\n",
              "      <td>525660.0</td>\n",
              "      <td>483611.000000</td>\n",
              "    </tr>\n",
              "    <tr>\n",
              "      <th>2018-08-01</th>\n",
              "      <td>529157.0</td>\n",
              "      <td>490453.500000</td>\n",
              "    </tr>\n",
              "    <tr>\n",
              "      <th>2018-09-01</th>\n",
              "      <td>516992.0</td>\n",
              "      <td>493075.583333</td>\n",
              "    </tr>\n",
              "    <tr>\n",
              "      <th>2018-10-01</th>\n",
              "      <td>527031.0</td>\n",
              "      <td>496482.333333</td>\n",
              "    </tr>\n",
              "  </tbody>\n",
              "</table>\n",
              "</div>"
            ],
            "text/plain": [
              "              UMTMVS    Yearly-Mean\n",
              "DATE                               \n",
              "2014-03-01  513700.0  485847.666667\n",
              "2014-06-01  516935.0  489181.333333\n",
              "2014-09-01  512988.0  492120.250000\n",
              "2018-03-01  518285.0  474351.250000\n",
              "2018-05-01  515105.0  480757.250000\n",
              "2018-06-01  525660.0  483611.000000\n",
              "2018-08-01  529157.0  490453.500000\n",
              "2018-09-01  516992.0  493075.583333\n",
              "2018-10-01  527031.0  496482.333333"
            ]
          },
          "metadata": {
            "tags": []
          },
          "execution_count": 46
        }
      ]
    },
    {
      "cell_type": "code",
      "metadata": {
        "id": "uRcXmfHV_HPU",
        "colab_type": "code",
        "colab": {
          "base_uri": "https://localhost:8080/",
          "height": 34
        },
        "outputId": "8fa40357-26b8-420b-aaa1-325ac7399a24"
      },
      "source": [
        "len(df.loc['2008-06-01':'2014-03-01'])"
      ],
      "execution_count": 47,
      "outputs": [
        {
          "output_type": "execute_result",
          "data": {
            "text/plain": [
              "70"
            ]
          },
          "metadata": {
            "tags": []
          },
          "execution_count": 47
        }
      ]
    },
    {
      "cell_type": "markdown",
      "metadata": {
        "id": "tCmCZbr0gfCW",
        "colab_type": "text"
      },
      "source": [
        "# GREAT JOB!"
      ]
    }
  ]
}